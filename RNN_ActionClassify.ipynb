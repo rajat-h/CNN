{
  "nbformat": 4,
  "nbformat_minor": 0,
  "metadata": {
    "kernelspec": {
      "display_name": "Python 3",
      "language": "python",
      "name": "python3"
    },
    "language_info": {
      "codemirror_mode": {
        "name": "ipython",
        "version": 3
      },
      "file_extension": ".py",
      "mimetype": "text/x-python",
      "name": "python",
      "nbconvert_exporter": "python",
      "pygments_lexer": "ipython3",
      "version": "3.6.0"
    },
    "colab": {
      "name": "RNN_ActionClassify.ipynb",
      "provenance": [],
      "collapsed_sections": [],
      "toc_visible": true
    }
  },
  "cells": [
    {
      "cell_type": "markdown",
      "metadata": {
        "id": "g9gL6InhzGno",
        "colab_type": "text"
      },
      "source": [
        "# Sequence Classification using Recurrent Neural Networks(RNN)\n",
        "In this homework, you will learn how to train a recurrent neural network for human action classification. RNN is designed handle sequential data. The network can incorporate both past history and current input. [This](http://colah.github.io/posts/2015-08-Understanding-LSTMs/) is a very good tutorial. You should read it before you start."
      ]
    },
    {
      "cell_type": "code",
      "metadata": {
        "id": "z03umFPXWdOv",
        "colab_type": "code",
        "colab": {
          "base_uri": "https://localhost:8080/",
          "height": 122
        },
        "outputId": "452e6220-abab-46d6-b014-73dcbd2f9500"
      },
      "source": [
        "from google.colab import drive\n",
        "drive.mount('/content/drive')"
      ],
      "execution_count": 2,
      "outputs": [
        {
          "output_type": "stream",
          "text": [
            "Go to this URL in a browser: https://accounts.google.com/o/oauth2/auth?client_id=947318989803-6bn6qk8qdgf4n4g3pfee6491hc0brc4i.apps.googleusercontent.com&redirect_uri=urn%3aietf%3awg%3aoauth%3a2.0%3aoob&response_type=code&scope=email%20https%3a%2f%2fwww.googleapis.com%2fauth%2fdocs.test%20https%3a%2f%2fwww.googleapis.com%2fauth%2fdrive%20https%3a%2f%2fwww.googleapis.com%2fauth%2fdrive.photos.readonly%20https%3a%2f%2fwww.googleapis.com%2fauth%2fpeopleapi.readonly\n",
            "\n",
            "Enter your authorization code:\n",
            "··········\n",
            "Mounted at /content/drive\n"
          ],
          "name": "stdout"
        }
      ]
    },
    {
      "cell_type": "markdown",
      "metadata": {
        "id": "XFlewEI6zGnt",
        "colab_type": "text"
      },
      "source": [
        "## Setup\n",
        "Please make sure you have h5py and torchnet installed\n",
        "> pip install h5py\n",
        "\n",
        "> pip install git+https://github.com/pytorch/tnt.git@master\n"
      ]
    },
    {
      "cell_type": "code",
      "metadata": {
        "id": "blHtI1q0WxxE",
        "colab_type": "code",
        "colab": {
          "base_uri": "https://localhost:8080/",
          "height": 547
        },
        "outputId": "dbfeee3d-f2b1-46cc-8243-f62f210d4b14"
      },
      "source": [
        "!pip install h5py\n",
        "!pip install git+https://github.com/pytorch/tnt.git@master"
      ],
      "execution_count": 8,
      "outputs": [
        {
          "output_type": "stream",
          "text": [
            "Requirement already satisfied: h5py in /usr/local/lib/python3.6/dist-packages (2.8.0)\n",
            "Requirement already satisfied: six in /usr/local/lib/python3.6/dist-packages (from h5py) (1.12.0)\n",
            "Requirement already satisfied: numpy>=1.7 in /usr/local/lib/python3.6/dist-packages (from h5py) (1.17.4)\n",
            "Collecting git+https://github.com/pytorch/tnt.git@master\n",
            "  Cloning https://github.com/pytorch/tnt.git (to revision master) to /tmp/pip-req-build-pvy42imn\n",
            "  Running command git clone -q https://github.com/pytorch/tnt.git /tmp/pip-req-build-pvy42imn\n",
            "Requirement already satisfied (use --upgrade to upgrade): torchnet==0.0.5.1 from git+https://github.com/pytorch/tnt.git@master in /usr/local/lib/python3.6/dist-packages\n",
            "Requirement already satisfied: torch in /usr/local/lib/python3.6/dist-packages (from torchnet==0.0.5.1) (1.3.1)\n",
            "Requirement already satisfied: six in /usr/local/lib/python3.6/dist-packages (from torchnet==0.0.5.1) (1.12.0)\n",
            "Requirement already satisfied: visdom in /usr/local/lib/python3.6/dist-packages (from torchnet==0.0.5.1) (0.1.8.9)\n",
            "Requirement already satisfied: numpy in /usr/local/lib/python3.6/dist-packages (from torch->torchnet==0.0.5.1) (1.17.4)\n",
            "Requirement already satisfied: torchfile in /usr/local/lib/python3.6/dist-packages (from visdom->torchnet==0.0.5.1) (0.1.0)\n",
            "Requirement already satisfied: jsonpatch in /usr/local/lib/python3.6/dist-packages (from visdom->torchnet==0.0.5.1) (1.24)\n",
            "Requirement already satisfied: scipy in /usr/local/lib/python3.6/dist-packages (from visdom->torchnet==0.0.5.1) (1.3.3)\n",
            "Requirement already satisfied: tornado in /usr/local/lib/python3.6/dist-packages (from visdom->torchnet==0.0.5.1) (4.5.3)\n",
            "Requirement already satisfied: websocket-client in /usr/local/lib/python3.6/dist-packages (from visdom->torchnet==0.0.5.1) (0.56.0)\n",
            "Requirement already satisfied: requests in /usr/local/lib/python3.6/dist-packages (from visdom->torchnet==0.0.5.1) (2.21.0)\n",
            "Requirement already satisfied: pyzmq in /usr/local/lib/python3.6/dist-packages (from visdom->torchnet==0.0.5.1) (17.0.0)\n",
            "Requirement already satisfied: pillow in /usr/local/lib/python3.6/dist-packages (from visdom->torchnet==0.0.5.1) (4.3.0)\n",
            "Requirement already satisfied: jsonpointer>=1.9 in /usr/local/lib/python3.6/dist-packages (from jsonpatch->visdom->torchnet==0.0.5.1) (2.0)\n",
            "Requirement already satisfied: urllib3<1.25,>=1.21.1 in /usr/local/lib/python3.6/dist-packages (from requests->visdom->torchnet==0.0.5.1) (1.24.3)\n",
            "Requirement already satisfied: idna<2.9,>=2.5 in /usr/local/lib/python3.6/dist-packages (from requests->visdom->torchnet==0.0.5.1) (2.8)\n",
            "Requirement already satisfied: certifi>=2017.4.17 in /usr/local/lib/python3.6/dist-packages (from requests->visdom->torchnet==0.0.5.1) (2019.11.28)\n",
            "Requirement already satisfied: chardet<3.1.0,>=3.0.2 in /usr/local/lib/python3.6/dist-packages (from requests->visdom->torchnet==0.0.5.1) (3.0.4)\n",
            "Requirement already satisfied: olefile in /usr/local/lib/python3.6/dist-packages (from pillow->visdom->torchnet==0.0.5.1) (0.46)\n",
            "Building wheels for collected packages: torchnet\n",
            "  Building wheel for torchnet (setup.py) ... \u001b[?25l\u001b[?25hdone\n",
            "  Created wheel for torchnet: filename=torchnet-0.0.5.1-cp36-none-any.whl size=30917 sha256=8d73f02fc1bda61b74064b5c3399654172d75484b4137f5f3ecf276e32739a2c\n",
            "  Stored in directory: /tmp/pip-ephem-wheel-cache-v_s83rts/wheels/17/05/ec/d05d051a225871af52bf504f5e8daf57704811b3c1850d0012\n",
            "Successfully built torchnet\n"
          ],
          "name": "stdout"
        }
      ]
    },
    {
      "cell_type": "code",
      "metadata": {
        "id": "xzmKOyGAzGnw",
        "colab_type": "code",
        "outputId": "88ea4351-c35f-4cee-d69f-4c64882928c0",
        "colab": {
          "base_uri": "https://localhost:8080/",
          "height": 34
        }
      },
      "source": [
        "import os\n",
        "import numpy as np\n",
        "import h5py\n",
        "\n",
        "import torch\n",
        "import torch.nn as nn\n",
        "from torch.autograd import Variable\n",
        "import torch.utils.data as DD\n",
        "import torchnet as tnt\n",
        "\n",
        "use_cuda = torch.cuda.is_available()\n",
        "print('use cuda: %s'%(use_cuda))\n",
        "FloatTensor = torch.cuda.FloatTensor if use_cuda else torch.FloatTensor\n",
        "LongTensor = torch.cuda.LongTensor if use_cuda else torch.LongTensor\n",
        "ByteTensor = torch.cuda.ByteTensor if use_cuda else torch.ByteTensor\n"
      ],
      "execution_count": 83,
      "outputs": [
        {
          "output_type": "stream",
          "text": [
            "use cuda: False\n"
          ],
          "name": "stdout"
        }
      ]
    },
    {
      "cell_type": "markdown",
      "metadata": {
        "id": "gMuQMMsCzGn_",
        "colab_type": "text"
      },
      "source": [
        "## Dataset\n",
        "The data we are using is skeleton data, which indicates the 3D locations of body joints. In total, there are 25 body joints. It is collected by Kinect v2. To make it easier, each sequence have same number of frames. You need to classify 10 different actions. There are 2000 training sequences, 400 validation sequences, and 500 test sequences. Each sequence has 15 frames, each frame is a 75-dimension vector (3*25). \n",
        "\n",
        "For your convenience, we provide the dataloader for you.\n"
      ]
    },
    {
      "cell_type": "code",
      "metadata": {
        "id": "EXO8pvo2zGoC",
        "colab_type": "code",
        "colab": {}
      },
      "source": [
        "class Dataset(DD.Dataset):\n",
        "    # subset can be: 'train', 'val', 'test'\n",
        "    def __init__(self, data_path, subset='train'):\n",
        "        super(Dataset, self).__init__()\n",
        "        self.data_path = os.path.join(data_path, '%s_data.h5'%subset)\n",
        "        self.subset = subset\n",
        "\n",
        "        with h5py.File(self.data_path) as f:\n",
        "            self.data = np.array(f['data'])\n",
        "\n",
        "        if subset != 'test':\n",
        "            self.label_path = os.path.join(data_path, '%s_label.h5'%subset)\n",
        "            with h5py.File(self.label_path) as f:\n",
        "                self.label = np.array(f['label'])\n",
        "\n",
        "        self.num_sequences = self.data.shape[0]\n",
        "        self.seq_len = self.data.shape[1]\n",
        "        self.n_dim = self.data.shape[2]\n",
        "\n",
        "    def __getitem__(self, index):\n",
        "        seq = self.data[index]\n",
        "        if self.subset != 'test':\n",
        "            label = int(self.label[index])\n",
        "            sample = {'seq': seq, 'label': label}\n",
        "        else:\n",
        "            sample = {'seq': seq}\n",
        "        return sample\n",
        "\n",
        "    def __len__(self):\n",
        "        return self.num_sequences\n",
        "\n",
        "trSet = Dataset('/content/drive/My Drive/Colab Notebooks/Question3/data', subset='train')\n",
        "valSet = Dataset('/content/drive/My Drive/Colab Notebooks/Question3/data', subset='val')\n",
        "tstSet = Dataset('/content/drive/My Drive/Colab Notebooks/Question3/data', subset='test')\n",
        "\n",
        "batch_size = 50\n",
        "trLD = DD.DataLoader(trSet, batch_size=batch_size,\n",
        "       sampler=DD.sampler.RandomSampler(trSet),\n",
        "       num_workers=2, pin_memory=False)\n",
        "valLD = DD.DataLoader(valSet, batch_size=batch_size,\n",
        "       sampler=DD.sampler.SequentialSampler(valSet),\n",
        "       num_workers=1, pin_memory=False)\n",
        "tstLD = DD.DataLoader(tstSet, batch_size=batch_size,\n",
        "       sampler=DD.sampler.SequentialSampler(tstSet),\n",
        "       num_workers=1, pin_memory=False)\n",
        "\n",
        "input_dim = trSet.n_dim\n",
        "num_class = 10"
      ],
      "execution_count": 0,
      "outputs": []
    },
    {
      "cell_type": "markdown",
      "metadata": {
        "id": "WYZs2LMkzGoJ",
        "colab_type": "text"
      },
      "source": [
        "## Model\n",
        "Pytorch has implemented different types of recurrent layers for you. For this homework, you can use any type of RNNs as you want:\n",
        "> torch.nn.RNN()\n",
        "\n",
        "> torch.nn.LSTM()\n",
        "\n",
        "> torch.nn.GRU()\n",
        "\n",
        "You can check details for different types of recurrent layers here: [RNN](http://pytorch.org/docs/master/nn.html#torch.nn.RNN), [LSTM]( http://pytorch.org/docs/master/nn.html#torch.nn.LSTM), [GRU](http://pytorch.org/docs/master/nn.html#torch.nn.GRU)\n",
        "\n",
        "\n",
        "### Implement a specific model\n",
        "In this section, you need to implement a model for sequence classification. The model has following layers:\n",
        "* A linear layer that can map features of 75-dimension to 100-dimension.\n",
        "* 1 Layer LSTM layer with hidden size of 100\n",
        "* A linear layer that goes from 100 to num_class (10). \n",
        "\n",
        "An LSTM layer takes an input of size of (batch_size, seq_len, fea_dim) and outputs a variable of shape (batch_size, seq_len, hidden_size). In this homework, the classification score for a sequence is the classification score for the last step of rnn_outputs.\n",
        "\n"
      ]
    },
    {
      "cell_type": "code",
      "metadata": {
        "id": "p7fj2fjTzGoL",
        "colab_type": "code",
        "colab": {}
      },
      "source": [
        "# sequence classification model\n",
        "class sqClassify(nn.Module):\n",
        "    def __init__(self):\n",
        "        super(sqClassify, self).__init__()\n",
        "        \n",
        "        ############## 1st To Do (10 points) ##############\n",
        "        ###################################################\n",
        "        self.project_layer = nn.Linear(75, 100)\n",
        "        self.recurrent_layer = nn.LSTM(100, 100, 1)\n",
        "        self.classify_layer = nn.Linear(100, 10)\n",
        "        ###################################################\n",
        "    \n",
        "    # the size of input is [batch_size, seq_len(15), input_dim(75)]\n",
        "    # the size of logits is [batch_size, num_class]\n",
        "    def forward(self, input, h_t_1=None, c_t_1=None):\n",
        "        # the size of rnn_outputs is [batch_size, seq_len, rnn_size]\n",
        "        rnnOpt, (hn, cn) = self.recurrent_layer(self.project_layer(input))\n",
        "        # classify the last step of rnn_outpus\n",
        "        # the size of logits is [batch_size, num_class]\n",
        "        lgts = self.classify_layer(rnnOpt[:,-1])\n",
        "        return lgts\n",
        "\n",
        "model = sqClassify()"
      ],
      "execution_count": 0,
      "outputs": []
    },
    {
      "cell_type": "markdown",
      "metadata": {
        "id": "rQXf8dINzGoT",
        "colab_type": "text"
      },
      "source": [
        "## Train the model\n",
        "After you have the dataloader and model, you can start training the model. Define a SGD optimizer with learning rate of 1e-3, and a cross-entropy loss function:"
      ]
    },
    {
      "cell_type": "code",
      "metadata": {
        "id": "zo8WUdiIzGoU",
        "colab_type": "code",
        "colab": {}
      },
      "source": [
        "################ 2nd To Do  (5 points)##################\n",
        "from torch import optim\n",
        "dtype = torch.FloatTensor\n",
        "optimizer = optim.SGD(model.parameters(), lr = 1e-3)\n",
        "criterion = nn.CrossEntropyLoss().type(dtype)"
      ],
      "execution_count": 0,
      "outputs": []
    },
    {
      "cell_type": "code",
      "metadata": {
        "id": "nbus_qJIzGoZ",
        "colab_type": "code",
        "colab": {
          "base_uri": "https://localhost:8080/",
          "height": 357
        },
        "outputId": "5ad99a81-37b8-4003-aff5-df56db5aa617"
      },
      "source": [
        "# one epoch train or validation model\n",
        "def run_epoch(data_loader, model, criterion, epoch, is_training, optimizer=None):\n",
        "    if is_training:\n",
        "        model.train()\n",
        "        lgp = 'train'\n",
        "    else:\n",
        "        model.eval()\n",
        "        lgp = 'val'\n",
        "\n",
        "    confusion_matrix = tnt.meter.ConfusionMeter(num_class)\n",
        "    acc = tnt.meter.ClassErrorMeter(accuracy=True)\n",
        "    mtrL = tnt.meter.AverageValueMeter()\n",
        "\n",
        "    for batch_idx, sample in enumerate(data_loader):\n",
        "        sequence = sample['seq']\n",
        "        label = sample['label']\n",
        "        ipSeqVar = Variable(sequence).type(FloatTensor)\n",
        "        ipLabVar = Variable(label).type(LongTensor)\n",
        "\n",
        "        # compute output\n",
        "        # output_logits: [batch_size, num_class]\n",
        "        oplgts = model(ipSeqVar)\n",
        "        loss = criterion(oplgts, ipLabVar)\n",
        "\n",
        "        if is_training:\n",
        "            optimizer.zero_grad()\n",
        "            loss.backward()\n",
        "            optimizer.step()\n",
        "\n",
        "        mtrL.add(loss.data)\n",
        "        acc.add(oplgts.data, ipLabVar.data)\n",
        "        confusion_matrix.add(oplgts.data, ipLabVar.data)\n",
        "\n",
        "\n",
        "    print('%s epoch: %d  , loss: %.4f,  acc: %.2f'%(lgp, epoch+1, mtrL.value()[0], acc.value()[0]))\n",
        "    return acc.value()[0]\n",
        "\n",
        "epochs = 10\n",
        "for i in range(epochs):\n",
        "    run_epoch(trLD, model, criterion, e, True, optimizer)\n",
        "    run_epoch(valLD, model, criterion, e, False, None)\n"
      ],
      "execution_count": 154,
      "outputs": [
        {
          "output_type": "stream",
          "text": [
            "train Epoch: 10  , Loss: 2.3030,  Accuracy: 10.90\n",
            "val Epoch: 10  , Loss: 2.3037,  Accuracy: 10.00\n",
            "train Epoch: 10  , Loss: 2.3030,  Accuracy: 11.10\n",
            "val Epoch: 10  , Loss: 2.3037,  Accuracy: 10.00\n",
            "train Epoch: 10  , Loss: 2.3030,  Accuracy: 11.55\n",
            "val Epoch: 10  , Loss: 2.3037,  Accuracy: 10.00\n",
            "train Epoch: 10  , Loss: 2.3035,  Accuracy: 11.30\n",
            "val Epoch: 10  , Loss: 2.3037,  Accuracy: 10.00\n",
            "train Epoch: 10  , Loss: 2.3028,  Accuracy: 11.30\n",
            "val Epoch: 10  , Loss: 2.3037,  Accuracy: 10.00\n",
            "train Epoch: 10  , Loss: 2.3027,  Accuracy: 11.55\n",
            "val Epoch: 10  , Loss: 2.3037,  Accuracy: 10.00\n",
            "train Epoch: 10  , Loss: 2.3032,  Accuracy: 11.35\n",
            "val Epoch: 10  , Loss: 2.3037,  Accuracy: 10.00\n",
            "train Epoch: 10  , Loss: 2.3032,  Accuracy: 11.45\n",
            "val Epoch: 10  , Loss: 2.3037,  Accuracy: 10.00\n",
            "train Epoch: 10  , Loss: 2.3030,  Accuracy: 11.45\n",
            "val Epoch: 10  , Loss: 2.3037,  Accuracy: 10.00\n",
            "train Epoch: 10  , Loss: 2.3033,  Accuracy: 11.20\n",
            "val Epoch: 10  , Loss: 2.3037,  Accuracy: 10.00\n"
          ],
          "name": "stdout"
        }
      ]
    },
    {
      "cell_type": "markdown",
      "metadata": {
        "id": "r_hqe-krzGod",
        "colab_type": "text"
      },
      "source": [
        "## Submit your results \n",
        "\n",
        "### Train a better model for action recognition!\n",
        "Now it's your job to experiment with architectures, hyperparameters, loss functions, and optimizers to train a model that achieves better accuracy on the action recognition validation set. \n",
        "\n",
        "\n",
        "### Testing the model and reporting the results\n",
        "Test the model on the testing set and save the results as a .csv file. \n",
        "submit the results.csv file generated by predict_on_test(). Also mention the best performance on the Validation set, and submit the corresponding results csv file which results in the best performance. \n",
        "################ 3rd To Do  (15 points) ###############\n"
      ]
    },
    {
      "cell_type": "code",
      "metadata": {
        "id": "qTmVKJmxdE2e",
        "colab_type": "code",
        "colab": {}
      },
      "source": [
        "class Flatten(nn.Module):\n",
        "    def forward(self, x):\n",
        "        N, C, H, W = x.size()\n",
        "        return x.view(N, -1)\n",
        "    \n",
        "# sequence classification model\n",
        "class sqClassifyfinal(nn.Module):\n",
        "    def __init__(self):\n",
        "        super(sqClassifyfinal, self).__init__()\n",
        "        \n",
        "        self.cnn_layer = nn.Sequential( \n",
        "            \n",
        "              nn.Conv2d(1, 128, kernel_size=(3, 3), stride=1),\n",
        "              nn.LeakyReLU(0.02),\n",
        "              nn.BatchNorm2d(128),\n",
        "              nn.MaxPool2d(kernel_size=2, stride=2, padding=0),\n",
        "\n",
        "              nn.Conv2d(128, 256, kernel_size=(2,2), stride=1),\n",
        "              nn.LeakyReLU(0.02),\n",
        "              nn.BatchNorm2d(256),\n",
        "              nn.MaxPool2d(kernel_size=2, stride=2, padding=0),\n",
        "\n",
        "              Flatten(), \n",
        "              nn.ReLU(inplace=True),\n",
        "              nn.Linear(8704, 100)\n",
        "        )\n",
        "        \n",
        "        #self.project_layer = nn.Linear(75, 100)\n",
        "        self.recurrent_layer = nn.LSTM(100, 100, 1)\n",
        "        self.classify_layer = nn.Linear(100, 10)\n",
        "        ###################################################\n",
        "    \n",
        "    # the size of input is [batch_size, seq_len(15), input_dim(75)]\n",
        "    # the size of logits is [batch_size, num_class]\n",
        "    def forward(self, input, h_t_1=None, c_t_1=None):\n",
        "        # the size of rnn_outputs is [batch_size, seq_len, rnn_size]\n",
        "        \n",
        "        rnnOps = self.cnn_layer(input.view(50, 1, 15, 75))\n",
        "        rnnOps, (hn, cn) = self.recurrent_layer(rnnOps.view(50, 1, 100))\n",
        "        \n",
        "        # classify the last step of rnn_outpus\n",
        "        # the size of logits is [batch_size, num_class]\n",
        "        lgts = self.classify_layer(rnnOps[:,-1])\n",
        "        return lgts\n",
        "\n",
        "finalmodel = sqClassifyfinal()"
      ],
      "execution_count": 0,
      "outputs": []
    },
    {
      "cell_type": "code",
      "metadata": {
        "id": "LNPA9RWpdMET",
        "colab_type": "code",
        "colab": {
          "base_uri": "https://localhost:8080/",
          "height": 1000
        },
        "outputId": "8d3a3cf7-9c06-47f2-c108-b1c410263c33"
      },
      "source": [
        "optimizer = optim.Adam(finalmodel.parameters(), lr = 1e-4)\n",
        "criterion = nn.CrossEntropyLoss()\n",
        "\n",
        "epochs = 50\n",
        "valLst = []\n",
        "trainLst = []\n",
        "for i in range(epochs):\n",
        "    acc = run_epoch(trLD, finalmodel, criterion, i, True, optimizer)\n",
        "    trainLst.append(acc)\n",
        "    acc = run_epoch(valLD, finalmodel, criterion, i, False, None)\n",
        "    valLst.append(acc)"
      ],
      "execution_count": 156,
      "outputs": [
        {
          "output_type": "stream",
          "text": [
            "train Epoch: 1  , Loss: 2.2355,  Accuracy: 19.45\n",
            "val Epoch: 1  , Loss: 2.2008,  Accuracy: 19.25\n",
            "train Epoch: 2  , Loss: 1.9105,  Accuracy: 46.65\n",
            "val Epoch: 2  , Loss: 1.7071,  Accuracy: 60.00\n",
            "train Epoch: 3  , Loss: 1.5340,  Accuracy: 63.95\n",
            "val Epoch: 3  , Loss: 1.3768,  Accuracy: 69.00\n",
            "train Epoch: 4  , Loss: 1.2657,  Accuracy: 69.90\n",
            "val Epoch: 4  , Loss: 1.1533,  Accuracy: 75.50\n",
            "train Epoch: 5  , Loss: 1.0929,  Accuracy: 73.95\n",
            "val Epoch: 5  , Loss: 1.0404,  Accuracy: 76.50\n",
            "train Epoch: 6  , Loss: 0.9758,  Accuracy: 77.70\n",
            "val Epoch: 6  , Loss: 0.9561,  Accuracy: 77.50\n",
            "train Epoch: 7  , Loss: 0.8705,  Accuracy: 79.80\n",
            "val Epoch: 7  , Loss: 0.8551,  Accuracy: 79.75\n",
            "train Epoch: 8  , Loss: 0.8034,  Accuracy: 81.05\n",
            "val Epoch: 8  , Loss: 0.8637,  Accuracy: 77.75\n",
            "train Epoch: 9  , Loss: 0.7369,  Accuracy: 83.35\n",
            "val Epoch: 9  , Loss: 0.7521,  Accuracy: 81.00\n",
            "train Epoch: 10  , Loss: 0.6820,  Accuracy: 84.40\n",
            "val Epoch: 10  , Loss: 0.7278,  Accuracy: 80.25\n",
            "train Epoch: 11  , Loss: 0.6323,  Accuracy: 86.10\n",
            "val Epoch: 11  , Loss: 0.7054,  Accuracy: 82.00\n",
            "train Epoch: 12  , Loss: 0.5774,  Accuracy: 87.80\n",
            "val Epoch: 12  , Loss: 0.7319,  Accuracy: 78.75\n",
            "train Epoch: 13  , Loss: 0.5458,  Accuracy: 89.10\n",
            "val Epoch: 13  , Loss: 0.6235,  Accuracy: 83.25\n",
            "train Epoch: 14  , Loss: 0.4977,  Accuracy: 89.80\n",
            "val Epoch: 14  , Loss: 0.6085,  Accuracy: 83.50\n",
            "train Epoch: 15  , Loss: 0.4642,  Accuracy: 90.95\n",
            "val Epoch: 15  , Loss: 0.6423,  Accuracy: 81.75\n",
            "train Epoch: 16  , Loss: 0.4343,  Accuracy: 91.40\n",
            "val Epoch: 16  , Loss: 0.5785,  Accuracy: 81.75\n",
            "train Epoch: 17  , Loss: 0.4125,  Accuracy: 92.10\n",
            "val Epoch: 17  , Loss: 0.6085,  Accuracy: 82.00\n",
            "train Epoch: 18  , Loss: 0.3746,  Accuracy: 93.55\n",
            "val Epoch: 18  , Loss: 0.5689,  Accuracy: 82.50\n",
            "train Epoch: 19  , Loss: 0.3567,  Accuracy: 93.20\n",
            "val Epoch: 19  , Loss: 0.5255,  Accuracy: 84.25\n",
            "train Epoch: 20  , Loss: 0.3265,  Accuracy: 94.25\n",
            "val Epoch: 20  , Loss: 0.5441,  Accuracy: 83.00\n",
            "train Epoch: 21  , Loss: 0.3115,  Accuracy: 94.05\n",
            "val Epoch: 21  , Loss: 0.5403,  Accuracy: 83.25\n",
            "train Epoch: 22  , Loss: 0.2961,  Accuracy: 94.75\n",
            "val Epoch: 22  , Loss: 0.4847,  Accuracy: 84.75\n",
            "train Epoch: 23  , Loss: 0.2739,  Accuracy: 95.35\n",
            "val Epoch: 23  , Loss: 0.5134,  Accuracy: 83.50\n",
            "train Epoch: 24  , Loss: 0.2559,  Accuracy: 95.95\n",
            "val Epoch: 24  , Loss: 0.4792,  Accuracy: 83.50\n",
            "train Epoch: 25  , Loss: 0.2355,  Accuracy: 96.40\n",
            "val Epoch: 25  , Loss: 0.4913,  Accuracy: 83.50\n",
            "train Epoch: 26  , Loss: 0.2167,  Accuracy: 96.40\n",
            "val Epoch: 26  , Loss: 0.4889,  Accuracy: 84.75\n",
            "train Epoch: 27  , Loss: 0.2013,  Accuracy: 97.10\n",
            "val Epoch: 27  , Loss: 0.5200,  Accuracy: 83.25\n",
            "train Epoch: 28  , Loss: 0.1922,  Accuracy: 96.90\n",
            "val Epoch: 28  , Loss: 0.4899,  Accuracy: 83.50\n",
            "train Epoch: 29  , Loss: 0.1830,  Accuracy: 97.60\n",
            "val Epoch: 29  , Loss: 0.4710,  Accuracy: 84.25\n",
            "train Epoch: 30  , Loss: 0.1710,  Accuracy: 97.80\n",
            "val Epoch: 30  , Loss: 0.4818,  Accuracy: 84.00\n",
            "train Epoch: 31  , Loss: 0.1507,  Accuracy: 98.20\n",
            "val Epoch: 31  , Loss: 0.4503,  Accuracy: 85.25\n",
            "train Epoch: 32  , Loss: 0.1431,  Accuracy: 98.20\n",
            "val Epoch: 32  , Loss: 0.4777,  Accuracy: 84.25\n",
            "train Epoch: 33  , Loss: 0.1343,  Accuracy: 98.65\n",
            "val Epoch: 33  , Loss: 0.4285,  Accuracy: 86.25\n",
            "train Epoch: 34  , Loss: 0.1272,  Accuracy: 98.60\n",
            "val Epoch: 34  , Loss: 0.4522,  Accuracy: 85.25\n",
            "train Epoch: 35  , Loss: 0.1166,  Accuracy: 98.90\n",
            "val Epoch: 35  , Loss: 0.5287,  Accuracy: 80.75\n",
            "train Epoch: 36  , Loss: 0.1117,  Accuracy: 99.05\n",
            "val Epoch: 36  , Loss: 0.4614,  Accuracy: 85.25\n",
            "train Epoch: 37  , Loss: 0.1038,  Accuracy: 98.95\n",
            "val Epoch: 37  , Loss: 0.4500,  Accuracy: 85.25\n",
            "train Epoch: 38  , Loss: 0.0969,  Accuracy: 98.95\n",
            "val Epoch: 38  , Loss: 0.4565,  Accuracy: 85.00\n",
            "train Epoch: 39  , Loss: 0.0866,  Accuracy: 99.25\n",
            "val Epoch: 39  , Loss: 0.4680,  Accuracy: 85.25\n",
            "train Epoch: 40  , Loss: 0.0815,  Accuracy: 99.40\n",
            "val Epoch: 40  , Loss: 0.4579,  Accuracy: 84.25\n",
            "train Epoch: 41  , Loss: 0.0803,  Accuracy: 99.50\n",
            "val Epoch: 41  , Loss: 0.4329,  Accuracy: 86.00\n",
            "train Epoch: 42  , Loss: 0.0772,  Accuracy: 99.30\n",
            "val Epoch: 42  , Loss: 0.4327,  Accuracy: 85.25\n",
            "train Epoch: 43  , Loss: 0.0721,  Accuracy: 99.30\n",
            "val Epoch: 43  , Loss: 0.4644,  Accuracy: 85.50\n",
            "train Epoch: 44  , Loss: 0.0619,  Accuracy: 99.60\n",
            "val Epoch: 44  , Loss: 0.4363,  Accuracy: 85.50\n",
            "train Epoch: 45  , Loss: 0.0627,  Accuracy: 99.55\n",
            "val Epoch: 45  , Loss: 0.4637,  Accuracy: 85.50\n",
            "train Epoch: 46  , Loss: 0.0577,  Accuracy: 99.85\n",
            "val Epoch: 46  , Loss: 0.4582,  Accuracy: 84.75\n",
            "train Epoch: 47  , Loss: 0.0498,  Accuracy: 99.80\n",
            "val Epoch: 47  , Loss: 0.4469,  Accuracy: 85.75\n",
            "train Epoch: 48  , Loss: 0.0466,  Accuracy: 99.95\n",
            "val Epoch: 48  , Loss: 0.4223,  Accuracy: 86.25\n",
            "train Epoch: 49  , Loss: 0.0405,  Accuracy: 99.95\n",
            "val Epoch: 49  , Loss: 0.4493,  Accuracy: 85.75\n",
            "train Epoch: 50  , Loss: 0.0388,  Accuracy: 100.00\n",
            "val Epoch: 50  , Loss: 0.4271,  Accuracy: 86.50\n"
          ],
          "name": "stdout"
        }
      ]
    },
    {
      "cell_type": "code",
      "metadata": {
        "id": "n87MwbsGzGoe",
        "colab_type": "code",
        "colab": {
          "base_uri": "https://localhost:8080/",
          "height": 34
        },
        "outputId": "c2cd728c-e469-4e82-cbed-e904285e127d"
      },
      "source": [
        "# Use your best model to generate results on test set and validation set.\n",
        "\n",
        "# generate csv file for test set\n",
        "def predict_on_test(model, data_loader):\n",
        "    model.eval() # Put the model in test mode (the opposite of model.train(), essentially)\n",
        "    results=open('results.csv','w')\n",
        "    count=0\n",
        "    results.write('Id'+','+'Class'+'\\n')\n",
        "    for batch_idx, sample in enumerate(data_loader):\n",
        "        seq = sample['seq']\n",
        "        ipSeqVar = Variable(seq).type(FloatTensor)\n",
        "        scores = model(ipSeqVar)\n",
        "        _, preds = scores.data.max(1)\n",
        "        for i in range(len(preds)):\n",
        "            results.write(str(count)+','+str(preds[i])+'\\n')\n",
        "            count+=1\n",
        "    results.close()\n",
        "    return count\n",
        "\n",
        "count=predict_on_test(model, tstLD)\n",
        "print(count)"
      ],
      "execution_count": 160,
      "outputs": [
        {
          "output_type": "stream",
          "text": [
            "500\n"
          ],
          "name": "stdout"
        }
      ]
    },
    {
      "cell_type": "markdown",
      "metadata": {
        "id": "yJua9UOMzGoi",
        "colab_type": "text"
      },
      "source": [
        "## Report the performance\n",
        "################ 4th To Do  (5 points)##################\n",
        "\n",
        "In this cell, you should write an explanation of what you did (network architecture, optimiziter, learning rate, epoches) and any visualizations or graphs that you make in the process of training and evaluating your network.\n",
        "\n"
      ]
    },
    {
      "cell_type": "markdown",
      "metadata": {
        "id": "RsPkGp53zGoi",
        "colab_type": "text"
      },
      "source": [
        "Network Architecture:\n",
        "\n",
        "I used Convolutional Long Short Memory, Fully Connected Deep Neural Network. I have tried various kernel and filter sizes in convolutions to improve performance.\n",
        "The implemented model has 2 layers of Conv2d, LeakyReLU, BatchNorm2d, Maxpool2d. The final layer is a fully connected LSTM layer.\n",
        "\n",
        "Optimizer:\n",
        "\n",
        "I tested the model with SGD and Adam optimizer. SGD optimizer gave 76% accuracy on validation set but did not converge in 50 epochs. I then used Adam Optimizer, this made the model stable, gave 86.5% accuracy on validation set and converged in 50 epochs.\n",
        "\n",
        "Learning Rate:\n",
        "\n",
        "The learning rate of 1e-4 is used in this model. \n",
        "\n",
        "\n"
      ]
    },
    {
      "cell_type": "code",
      "metadata": {
        "id": "NTwP85mZaOea",
        "colab_type": "code",
        "colab": {}
      },
      "source": [
        "from google.colab import files\n",
        "files.download('results.csv')"
      ],
      "execution_count": 0,
      "outputs": []
    }
  ]
}